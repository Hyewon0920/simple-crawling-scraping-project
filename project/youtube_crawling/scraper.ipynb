{
 "cells": [
  {
   "cell_type": "markdown",
   "metadata": {},
   "source": [
    "# 유튜브 콘텐츠 크롤링\n",
    "- 참고 : [깃허브](https://github.com/park-gb/youtube-content-scaper)"
   ]
  },
  {
   "cell_type": "code",
   "execution_count": 1,
   "metadata": {},
   "outputs": [
    {
     "name": "stdout",
     "output_type": "stream",
     "text": [
      "Collecting bs4==0.0.1\n",
      "  Downloading bs4-0.0.1.tar.gz (1.1 kB)\n",
      "  Preparing metadata (setup.py): started\n",
      "  Preparing metadata (setup.py): finished with status 'done'\n",
      "Requirement already satisfied: beautifulsoup4 in c:\\users\\hop09\\desktop\\anaconda\\lib\\site-packages (from bs4==0.0.1) (4.12.2)\n",
      "Requirement already satisfied: soupsieve>1.2 in c:\\users\\hop09\\desktop\\anaconda\\lib\\site-packages (from beautifulsoup4->bs4==0.0.1) (2.4)\n",
      "Building wheels for collected packages: bs4\n",
      "  Building wheel for bs4 (setup.py): started\n",
      "  Building wheel for bs4 (setup.py): finished with status 'done'\n",
      "  Created wheel for bs4: filename=bs4-0.0.1-py3-none-any.whl size=1264 sha256=0578cd989d41d9f978c827b3c62f8743cdcf1b51e9af1f9b0dcf3497acbcf1b3\n",
      "  Stored in directory: c:\\users\\hop09\\appdata\\local\\pip\\cache\\wheels\\73\\2b\\cb\\099980278a0c9a3e57ff1a89875ec07bfa0b6fcbebb9a8cad3\n",
      "Successfully built bs4\n",
      "Installing collected packages: bs4\n",
      "Successfully installed bs4-0.0.1\n",
      "Collecting selenium==4.1.2\n",
      "  Downloading selenium-4.1.2-py3-none-any.whl (963 kB)\n",
      "                                              0.0/963.5 kB ? eta -:--:--\n",
      "     ------------------------------------  962.6/963.5 kB 30.7 MB/s eta 0:00:01\n",
      "     ------------------------------------- 963.5/963.5 kB 20.3 MB/s eta 0:00:00\n",
      "Requirement already satisfied: urllib3[secure,socks]~=1.26 in c:\\users\\hop09\\desktop\\anaconda\\lib\\site-packages (from selenium==4.1.2) (1.26.16)\n",
      "Requirement already satisfied: trio~=0.17 in c:\\users\\hop09\\desktop\\anaconda\\lib\\site-packages (from selenium==4.1.2) (0.22.0)\n",
      "Requirement already satisfied: trio-websocket~=0.9 in c:\\users\\hop09\\desktop\\anaconda\\lib\\site-packages (from selenium==4.1.2) (0.10.2)\n",
      "Requirement already satisfied: attrs>=19.2.0 in c:\\users\\hop09\\desktop\\anaconda\\lib\\site-packages (from trio~=0.17->selenium==4.1.2) (22.1.0)\n",
      "Requirement already satisfied: sortedcontainers in c:\\users\\hop09\\desktop\\anaconda\\lib\\site-packages (from trio~=0.17->selenium==4.1.2) (2.4.0)\n",
      "Requirement already satisfied: async-generator>=1.9 in c:\\users\\hop09\\desktop\\anaconda\\lib\\site-packages (from trio~=0.17->selenium==4.1.2) (1.10)\n",
      "Requirement already satisfied: idna in c:\\users\\hop09\\desktop\\anaconda\\lib\\site-packages (from trio~=0.17->selenium==4.1.2) (3.4)\n",
      "Requirement already satisfied: outcome in c:\\users\\hop09\\desktop\\anaconda\\lib\\site-packages (from trio~=0.17->selenium==4.1.2) (1.2.0)\n",
      "Requirement already satisfied: sniffio in c:\\users\\hop09\\desktop\\anaconda\\lib\\site-packages (from trio~=0.17->selenium==4.1.2) (1.2.0)\n",
      "Requirement already satisfied: cffi>=1.14 in c:\\users\\hop09\\desktop\\anaconda\\lib\\site-packages (from trio~=0.17->selenium==4.1.2) (1.15.1)\n",
      "Requirement already satisfied: exceptiongroup>=1.0.0rc9 in c:\\users\\hop09\\desktop\\anaconda\\lib\\site-packages (from trio~=0.17->selenium==4.1.2) (1.0.4)\n",
      "Requirement already satisfied: wsproto>=0.14 in c:\\users\\hop09\\desktop\\anaconda\\lib\\site-packages (from trio-websocket~=0.9->selenium==4.1.2) (1.2.0)\n",
      "Requirement already satisfied: pyOpenSSL>=0.14 in c:\\users\\hop09\\desktop\\anaconda\\lib\\site-packages (from urllib3[secure,socks]~=1.26->selenium==4.1.2) (23.0.0)\n",
      "Requirement already satisfied: cryptography>=1.3.4 in c:\\users\\hop09\\desktop\\anaconda\\lib\\site-packages (from urllib3[secure,socks]~=1.26->selenium==4.1.2) (39.0.1)\n",
      "Requirement already satisfied: certifi in c:\\users\\hop09\\desktop\\anaconda\\lib\\site-packages (from urllib3[secure,socks]~=1.26->selenium==4.1.2) (2023.5.7)\n",
      "Collecting urllib3-secure-extra (from urllib3[secure,socks]~=1.26->selenium==4.1.2)\n",
      "  Downloading urllib3_secure_extra-0.1.0-py2.py3-none-any.whl (1.4 kB)\n",
      "Requirement already satisfied: PySocks!=1.5.7,<2.0,>=1.5.6 in c:\\users\\hop09\\desktop\\anaconda\\lib\\site-packages (from urllib3[secure,socks]~=1.26->selenium==4.1.2) (1.7.1)\n",
      "Requirement already satisfied: pycparser in c:\\users\\hop09\\desktop\\anaconda\\lib\\site-packages (from cffi>=1.14->trio~=0.17->selenium==4.1.2) (2.21)\n",
      "Requirement already satisfied: h11<1,>=0.9.0 in c:\\users\\hop09\\desktop\\anaconda\\lib\\site-packages (from wsproto>=0.14->trio-websocket~=0.9->selenium==4.1.2) (0.14.0)\n",
      "Installing collected packages: urllib3-secure-extra, selenium\n",
      "  Attempting uninstall: selenium\n",
      "    Found existing installation: selenium 4.12.0\n",
      "    Uninstalling selenium-4.12.0:\n",
      "      Successfully uninstalled selenium-4.12.0\n",
      "Successfully installed selenium-4.1.2 urllib3-secure-extra-0.1.0\n",
      "Collecting webdriver-manager==3.5.3\n",
      "  Downloading webdriver_manager-3.5.3-py2.py3-none-any.whl (18 kB)\n",
      "Requirement already satisfied: requests in c:\\users\\hop09\\desktop\\anaconda\\lib\\site-packages (from webdriver-manager==3.5.3) (2.29.0)\n",
      "Collecting configparser (from webdriver-manager==3.5.3)\n",
      "  Downloading configparser-6.0.0-py3-none-any.whl (19 kB)\n",
      "Collecting crayons (from webdriver-manager==3.5.3)\n",
      "  Downloading crayons-0.4.0-py2.py3-none-any.whl (4.6 kB)\n",
      "Requirement already satisfied: colorama in c:\\users\\hop09\\desktop\\anaconda\\lib\\site-packages (from crayons->webdriver-manager==3.5.3) (0.4.6)\n",
      "Requirement already satisfied: charset-normalizer<4,>=2 in c:\\users\\hop09\\desktop\\anaconda\\lib\\site-packages (from requests->webdriver-manager==3.5.3) (2.0.4)\n",
      "Requirement already satisfied: idna<4,>=2.5 in c:\\users\\hop09\\desktop\\anaconda\\lib\\site-packages (from requests->webdriver-manager==3.5.3) (3.4)\n",
      "Requirement already satisfied: urllib3<1.27,>=1.21.1 in c:\\users\\hop09\\desktop\\anaconda\\lib\\site-packages (from requests->webdriver-manager==3.5.3) (1.26.16)\n",
      "Requirement already satisfied: certifi>=2017.4.17 in c:\\users\\hop09\\desktop\\anaconda\\lib\\site-packages (from requests->webdriver-manager==3.5.3) (2023.5.7)\n",
      "Installing collected packages: crayons, configparser, webdriver-manager\n",
      "  Attempting uninstall: webdriver-manager\n",
      "    Found existing installation: webdriver-manager 3.8.6\n",
      "    Uninstalling webdriver-manager-3.8.6:\n",
      "      Successfully uninstalled webdriver-manager-3.8.6\n",
      "Successfully installed configparser-6.0.0 crayons-0.4.0 webdriver-manager-3.5.3\n",
      "Collecting pandas==1.4.1\n",
      "  Downloading pandas-1.4.1-cp39-cp39-win_amd64.whl (10.5 MB)\n",
      "                                              0.0/10.5 MB ? eta -:--:--\n",
      "     -                                        0.3/10.5 MB 5.9 MB/s eta 0:00:02\n",
      "     -----                                    1.5/10.5 MB 13.7 MB/s eta 0:00:01\n",
      "     --------                                 2.3/10.5 MB 13.1 MB/s eta 0:00:01\n",
      "     -----------                              3.1/10.5 MB 13.3 MB/s eta 0:00:01\n",
      "     -------------------                      5.1/10.5 MB 15.5 MB/s eta 0:00:01\n",
      "     --------------------                     5.5/10.5 MB 14.7 MB/s eta 0:00:01\n",
      "     ----------------------                   6.0/10.5 MB 14.8 MB/s eta 0:00:01\n",
      "     --------------------------               7.0/10.5 MB 13.6 MB/s eta 0:00:01\n",
      "     -----------------------------            7.9/10.5 MB 13.7 MB/s eta 0:00:01\n",
      "     ------------------------------------     9.7/10.5 MB 14.8 MB/s eta 0:00:01\n",
      "     --------------------------------------  10.5/10.5 MB 16.0 MB/s eta 0:00:01\n",
      "     --------------------------------------- 10.5/10.5 MB 14.9 MB/s eta 0:00:00\n",
      "Requirement already satisfied: python-dateutil>=2.8.1 in c:\\users\\hop09\\desktop\\anaconda\\lib\\site-packages (from pandas==1.4.1) (2.8.2)\n",
      "Requirement already satisfied: pytz>=2020.1 in c:\\users\\hop09\\desktop\\anaconda\\lib\\site-packages (from pandas==1.4.1) (2022.7)\n",
      "Requirement already satisfied: numpy>=1.18.5 in c:\\users\\hop09\\desktop\\anaconda\\lib\\site-packages (from pandas==1.4.1) (1.23.5)\n",
      "Requirement already satisfied: six>=1.5 in c:\\users\\hop09\\desktop\\anaconda\\lib\\site-packages (from python-dateutil>=2.8.1->pandas==1.4.1) (1.16.0)\n",
      "Installing collected packages: pandas\n",
      "  Attempting uninstall: pandas\n",
      "    Found existing installation: pandas 1.5.3\n",
      "    Uninstalling pandas-1.5.3:\n",
      "      Successfully uninstalled pandas-1.5.3\n",
      "Successfully installed pandas-1.4.1\n",
      "Collecting numpy==1.22.2\n",
      "  Downloading numpy-1.22.2-cp39-cp39-win_amd64.whl (14.7 MB)\n",
      "                                              0.0/14.7 MB ? eta -:--:--\n",
      "     -                                        0.5/14.7 MB 9.4 MB/s eta 0:00:02\n",
      "     ------                                   2.2/14.7 MB 23.5 MB/s eta 0:00:01\n",
      "     ---------                                3.6/14.7 MB 25.6 MB/s eta 0:00:01\n",
      "     --------------                           5.2/14.7 MB 27.6 MB/s eta 0:00:01\n",
      "     -------------------                      7.2/14.7 MB 30.9 MB/s eta 0:00:01\n",
      "     ------------------------                 8.8/14.7 MB 31.4 MB/s eta 0:00:01\n",
      "     ---------------------------             10.4/14.7 MB 32.8 MB/s eta 0:00:01\n",
      "     ---------------------------------       12.8/14.7 MB 38.5 MB/s eta 0:00:01\n",
      "     --------------------------------------  14.7/14.7 MB 43.7 MB/s eta 0:00:01\n",
      "     --------------------------------------- 14.7/14.7 MB 32.8 MB/s eta 0:00:00\n",
      "Installing collected packages: numpy\n",
      "  Attempting uninstall: numpy\n",
      "    Found existing installation: numpy 1.23.5\n",
      "    Uninstalling numpy-1.23.5:\n",
      "      Successfully uninstalled numpy-1.23.5\n",
      "Successfully installed numpy-1.22.2\n"
     ]
    },
    {
     "name": "stderr",
     "output_type": "stream",
     "text": [
      "ERROR: pip's dependency resolver does not currently take into account all the packages that are installed. This behaviour is the source of the following dependency conflicts.\n",
      "gensim 4.3.0 requires FuzzyTM>=0.4.0, which is not installed.\n",
      "tables 3.8.0 requires blosc2~=2.0.0, which is not installed.\n",
      "tables 3.8.0 requires cython>=0.29.21, which is not installed.\n",
      "librosa 0.10.0.post2 requires numpy!=1.22.0,!=1.22.1,!=1.22.2,>=1.20.3, but you have numpy 1.22.2 which is incompatible.\n",
      "tensorboard 2.10.0 requires protobuf<3.20,>=3.9.2, but you have protobuf 3.20.3 which is incompatible.\n",
      "tensorflow 2.10.0 requires protobuf<3.20,>=3.9.2, but you have protobuf 3.20.3 which is incompatible.\n",
      "tensorflow-intel 2.12.0 requires keras<2.13,>=2.12.0, but you have keras 2.10.0 which is incompatible.\n",
      "tensorflow-intel 2.12.0 requires tensorboard<2.13,>=2.12, but you have tensorboard 2.10.0 which is incompatible.\n",
      "tensorflow-intel 2.12.0 requires tensorflow-estimator<2.13,>=2.12.0, but you have tensorflow-estimator 2.10.0 which is incompatible.\n"
     ]
    }
   ],
   "source": [
    "# 필요 모듈 다운로드\n",
    "! pip install bs4==0.0.1\n",
    "! pip install selenium==4.1.2\n",
    "! pip install webdriver-manager==3.5.3\n",
    "! pip install pandas==1.4.1\n",
    "! pip install numpy==1.22.2"
   ]
  },
  {
   "cell_type": "markdown",
   "metadata": {},
   "source": [
    "# 패키지 Import"
   ]
  },
  {
   "cell_type": "code",
   "execution_count": 2,
   "metadata": {},
   "outputs": [],
   "source": [
    "from selenium import webdriver\n",
    "from selenium.webdriver.support.ui import WebDriverWait\n",
    "from selenium.webdriver.support import expected_conditions as EC\n",
    "from selenium.webdriver.common.by import By\n",
    "from selenium.webdriver.common.keys import Keys\n",
    "from webdriver_manager.chrome import ChromeDriverManager\n",
    "from bs4 import BeautifulSoup"
   ]
  },
  {
   "cell_type": "code",
   "execution_count": 10,
   "metadata": {},
   "outputs": [
    {
     "name": "stdout",
     "output_type": "stream",
     "text": [
      "Requirement already satisfied: selenium in c:\\users\\hop09\\desktop\\anaconda\\lib\\site-packages (4.12.0)\n",
      "Requirement already satisfied: urllib3[socks]<3,>=1.26 in c:\\users\\hop09\\desktop\\anaconda\\lib\\site-packages (from selenium) (1.26.16)\n",
      "Requirement already satisfied: trio~=0.17 in c:\\users\\hop09\\desktop\\anaconda\\lib\\site-packages (from selenium) (0.22.0)\n",
      "Requirement already satisfied: trio-websocket~=0.9 in c:\\users\\hop09\\desktop\\anaconda\\lib\\site-packages (from selenium) (0.10.2)\n",
      "Requirement already satisfied: certifi>=2021.10.8 in c:\\users\\hop09\\desktop\\anaconda\\lib\\site-packages (from selenium) (2023.5.7)\n",
      "Requirement already satisfied: attrs>=19.2.0 in c:\\users\\hop09\\desktop\\anaconda\\lib\\site-packages (from trio~=0.17->selenium) (22.1.0)\n",
      "Requirement already satisfied: sortedcontainers in c:\\users\\hop09\\desktop\\anaconda\\lib\\site-packages (from trio~=0.17->selenium) (2.4.0)\n",
      "Requirement already satisfied: async-generator>=1.9 in c:\\users\\hop09\\desktop\\anaconda\\lib\\site-packages (from trio~=0.17->selenium) (1.10)\n",
      "Requirement already satisfied: idna in c:\\users\\hop09\\desktop\\anaconda\\lib\\site-packages (from trio~=0.17->selenium) (3.4)\n",
      "Requirement already satisfied: outcome in c:\\users\\hop09\\desktop\\anaconda\\lib\\site-packages (from trio~=0.17->selenium) (1.2.0)\n",
      "Requirement already satisfied: sniffio in c:\\users\\hop09\\desktop\\anaconda\\lib\\site-packages (from trio~=0.17->selenium) (1.2.0)\n",
      "Requirement already satisfied: cffi>=1.14 in c:\\users\\hop09\\desktop\\anaconda\\lib\\site-packages (from trio~=0.17->selenium) (1.15.1)\n",
      "Requirement already satisfied: exceptiongroup>=1.0.0rc9 in c:\\users\\hop09\\desktop\\anaconda\\lib\\site-packages (from trio~=0.17->selenium) (1.0.4)\n",
      "Requirement already satisfied: wsproto>=0.14 in c:\\users\\hop09\\desktop\\anaconda\\lib\\site-packages (from trio-websocket~=0.9->selenium) (1.2.0)\n",
      "Requirement already satisfied: PySocks!=1.5.7,<2.0,>=1.5.6 in c:\\users\\hop09\\desktop\\anaconda\\lib\\site-packages (from urllib3[socks]<3,>=1.26->selenium) (1.7.1)\n",
      "Requirement already satisfied: pycparser in c:\\users\\hop09\\desktop\\anaconda\\lib\\site-packages (from cffi>=1.14->trio~=0.17->selenium) (2.21)\n",
      "Requirement already satisfied: h11<1,>=0.9.0 in c:\\users\\hop09\\desktop\\anaconda\\lib\\site-packages (from wsproto>=0.14->trio-websocket~=0.9->selenium) (0.14.0)\n"
     ]
    }
   ],
   "source": [
    "# 최신버전 업데이트 매번 크롬드라이버 다운 불필요\n",
    "! pip install selenium -U \n"
   ]
  },
  {
   "cell_type": "code",
   "execution_count": 4,
   "metadata": {},
   "outputs": [],
   "source": [
    "import time\n",
    "import random\n",
    "import pandas as pd"
   ]
  },
  {
   "cell_type": "markdown",
   "metadata": {
    "tags": []
   },
   "source": [
    "# 무한 스크롤 함수\n",
    "## 1) 기능\n",
    "- 콘텐츠 로딩을 충분히 기다리며 스크롤이 불가할 때까지 스크롤을 무한 반복하는 함수\n",
    "\n",
    "## 2) 역할\n",
    "- 유튜브 웹 페이지는 스크롤을 해야 새로운 콘텐츠 정보를 제공하기 때문에, 모든 검색 결과를 확인하기 위해서는 무한 스크롤 기능 필요"
   ]
  },
  {
   "cell_type": "code",
   "execution_count": 5,
   "metadata": {},
   "outputs": [],
   "source": [
    "def scroll():\n",
    "    try:        \n",
    "        # 페이지 내 스크롤 높이 받아오기\n",
    "        last_page_height = driver.execute_script(\"return document.documentElement.scrollHeight\")\n",
    "        while True:\n",
    "            # 임의의 페이지 로딩 시간 설정\n",
    "            # PC환경에 따라 로딩시간 최적화를 통해 scraping 시간 단축 가능\n",
    "            pause_time = random.uniform(1, 2)\n",
    "            # 페이지 최하단까지 스크롤\n",
    "            driver.execute_script(\"window.scrollTo(0, document.documentElement.scrollHeight);\")\n",
    "            # 페이지 로딩 대기\n",
    "            time.sleep(pause_time)\n",
    "            # 무한 스크롤 동작을 위해 살짝 위로 스크롤(i.e., 페이지를 위로 올렸다가 내리는 제스쳐)\n",
    "            driver.execute_script(\"window.scrollTo(0, document.documentElement.scrollHeight-50)\")\n",
    "            time.sleep(pause_time)\n",
    "            # 페이지 내 스크롤 높이 새롭게 받아오기\n",
    "            new_page_height = driver.execute_script(\"return document.documentElement.scrollHeight\")\n",
    "            # 스크롤을 완료한 경우(더이상 페이지 높이 변화가 없는 경우)\n",
    "            if new_page_height == last_page_height:\n",
    "                print(\"스크롤 완료\")\n",
    "                break\n",
    "                \n",
    "            # 스크롤 완료하지 않은 경우, 최하단까지 스크롤\n",
    "            else:\n",
    "                last_page_height = new_page_height\n",
    "            \n",
    "    except Exception as e:\n",
    "        print(\"에러 발생: \", e)"
   ]
  },
  {
   "cell_type": "markdown",
   "metadata": {
    "tags": []
   },
   "source": [
    "# 데이터 Scrap"
   ]
  },
  {
   "cell_type": "code",
   "execution_count": 6,
   "metadata": {},
   "outputs": [],
   "source": [
    "# 검색 키워드 설정: 키워드 내 띄어쓰기는 URL에서 '+'로 표시되기 때문에 이에 맞게 변환\n",
    "SEARCH_KEYWORD = '투자종목 추천'.replace(' ', '+')"
   ]
  },
  {
   "cell_type": "code",
   "execution_count": 12,
   "metadata": {},
   "outputs": [
    {
     "name": "stdout",
     "output_type": "stream",
     "text": [
      "스크롤 완료\n"
     ]
    }
   ],
   "source": [
    "driver = webdriver.Chrome()\n",
    "# 스크래핑 할 URL 세팅\n",
    "URL = \"https://www.youtube.com/results?search_query=\" + SEARCH_KEYWORD\n",
    "# 크롬 드라이버를 통해 지정한 URL의 웹 페이지 오픈\n",
    "driver.get(URL)\n",
    "# 웹 페이지 로딩 대기\n",
    "time.sleep(3)\n",
    "# 무한 스크롤 함수 실행\n",
    "scroll()"
   ]
  },
  {
   "cell_type": "code",
   "execution_count": 13,
   "metadata": {},
   "outputs": [],
   "source": [
    "# 페이지 소스 추출\n",
    "html_source = driver.page_source\n",
    "soup_source = BeautifulSoup(html_source, 'html.parser')"
   ]
  },
  {
   "cell_type": "markdown",
   "metadata": {},
   "source": [
    "# 데이터 추출"
   ]
  },
  {
   "cell_type": "code",
   "execution_count": 19,
   "metadata": {
    "scrolled": true
   },
   "outputs": [],
   "source": [
    "# 콘텐츠 모든 정보\n",
    "content_total = soup_source.find_all(class_ = 'yt-simple-endpoint style-scope ytd-video-renderer')\n",
    "# 콘텐츠 제목만 추출\n",
    "content_total_title = list(map(lambda data: data.get_text().replace(\"\\n\", \"\"), content_total))\n",
    "# 콘텐츠 링크만 추출\n",
    "content_total_link = list(map(lambda data: \"https://youtube.com\" + data[\"href\"], content_total))\n",
    "\n",
    "#--------조회수 & 업로드 날짜 추출(Updated at 2022-10-11)--------#\n",
    "content_record_src = soup_source.find_all(class_ = 'inline-metadata-item style-scope ytd-video-meta-block')\n",
    "content_view_cnt = [content_record_src[i].get_text().replace('조회수 ', '') for i in range(0, len(content_record_src), 10)]\n",
    "content_upload_date = [content_record_src[i].get_text() for i in range(1, len(content_record_src), 10)]\n",
    "#---------------------------------------------------------#"
   ]
  },
  {
   "cell_type": "markdown",
   "metadata": {},
   "source": [
    "# 데이터프레임 저장"
   ]
  },
  {
   "cell_type": "code",
   "execution_count": 21,
   "metadata": {},
   "outputs": [
    {
     "name": "stdout",
     "output_type": "stream",
     "text": [
      "c:\\Users\\hop09\\Desktop\\SEMINA\\미래에셋-유튜브\n"
     ]
    }
   ],
   "source": [
    "import os\n",
    "path = os.getcwd()\n",
    "print(path)"
   ]
  },
  {
   "cell_type": "code",
   "execution_count": 16,
   "metadata": {},
   "outputs": [],
   "source": [
    "# 모든 리스트가 같은 길이를 가지도록 확인\n",
    "min_length = min(len(content_total_title), len(content_total_link), len(content_view_cnt), len(content_upload_date))\n",
    "content_total_dict = {\n",
    "    'title': content_total_title[:min_length],\n",
    "    'link': content_total_link[:min_length],\n",
    "    'view': content_view_cnt[:min_length],\n",
    "    'upload_date': content_upload_date[:min_length]\n",
    "}\n",
    "\n",
    "df = pd.DataFrame(content_total_dict)\n",
    "df.to_csv(path+\"/content_total.csv\", encoding='utf-8-sig')"
   ]
  },
  {
   "cell_type": "markdown",
   "metadata": {},
   "source": [
    "# 데이터 확인"
   ]
  },
  {
   "cell_type": "code",
   "execution_count": 17,
   "metadata": {},
   "outputs": [
    {
     "data": {
      "text/html": [
       "<div>\n",
       "<style scoped>\n",
       "    .dataframe tbody tr th:only-of-type {\n",
       "        vertical-align: middle;\n",
       "    }\n",
       "\n",
       "    .dataframe tbody tr th {\n",
       "        vertical-align: top;\n",
       "    }\n",
       "\n",
       "    .dataframe thead th {\n",
       "        text-align: right;\n",
       "    }\n",
       "</style>\n",
       "<table border=\"1\" class=\"dataframe\">\n",
       "  <thead>\n",
       "    <tr style=\"text-align: right;\">\n",
       "      <th></th>\n",
       "      <th>title</th>\n",
       "      <th>link</th>\n",
       "      <th>view</th>\n",
       "      <th>upload_date</th>\n",
       "    </tr>\n",
       "  </thead>\n",
       "  <tbody>\n",
       "    <tr>\n",
       "      <th>0</th>\n",
       "      <td>지금부터 '이 주식' 꼭 사야 한다, 놓치면 반드시 후회합니다 (전업투자자 김정수)</td>\n",
       "      <td>https://youtube.com/watch?v=TmTSczyw6lg&amp;pp=ygU...</td>\n",
       "      <td>7.7만회</td>\n",
       "      <td>1개월 전</td>\n",
       "    </tr>\n",
       "    <tr>\n",
       "      <th>1</th>\n",
       "      <td>2차전지 다음으로 3년간 큰돈 벌 기회가 왔어요 '이 주식' 사 모으세요 (장기 투...</td>\n",
       "      <td>https://youtube.com/watch?v=qhAABUhN_ms&amp;pp=ygU...</td>\n",
       "      <td>14만회</td>\n",
       "      <td>조회수 53만회</td>\n",
       "    </tr>\n",
       "    <tr>\n",
       "      <th>2</th>\n",
       "      <td>국내 ETF주식 세 종목만 모으셔도 부자가 됩니다 !</td>\n",
       "      <td>https://youtube.com/watch?v=FCK-Wl2cjpo&amp;pp=ygU...</td>\n",
       "      <td>33만회</td>\n",
       "      <td>조회수 326만회</td>\n",
       "    </tr>\n",
       "    <tr>\n",
       "      <th>3</th>\n",
       "      <td>국내 배당주식 세 종목만 모으셔도 부자가 됩니다!</td>\n",
       "      <td>https://youtube.com/watch?v=1AIl51rqe4w&amp;pp=ygU...</td>\n",
       "      <td>39만회</td>\n",
       "      <td>1년 전</td>\n",
       "    </tr>\n",
       "    <tr>\n",
       "      <th>4</th>\n",
       "      <td>2023년 배당주 추천 종목 완벽 정리! (투자 방법, 배당금 많은 주식 순위, 고...</td>\n",
       "      <td>https://youtube.com/watch?v=Mq1XCWg3hvk&amp;pp=ygU...</td>\n",
       "      <td>5.5천회</td>\n",
       "      <td>5개월 전</td>\n",
       "    </tr>\n",
       "    <tr>\n",
       "      <th>...</th>\n",
       "      <td>...</td>\n",
       "      <td>...</td>\n",
       "      <td>...</td>\n",
       "      <td>...</td>\n",
       "    </tr>\n",
       "    <tr>\n",
       "      <th>139</th>\n",
       "      <td>주식초보 주린이를 위한 1 Tier 추천 도서 완벽 정리, 한권으로 주식투자 공부 ...</td>\n",
       "      <td>https://youtube.com/watch?v=-7PNSj9m1XA&amp;pp=ygU...</td>\n",
       "      <td>4.2만회</td>\n",
       "      <td>5개월 전</td>\n",
       "    </tr>\n",
       "    <tr>\n",
       "      <th>140</th>\n",
       "      <td>국내 배당주식 대신 유튜브 한 종목 추천으로 큰일날뻔..(feat.부자and거지)</td>\n",
       "      <td>https://youtube.com/watch?v=qugJE7bsksg&amp;pp=ygU...</td>\n",
       "      <td>246회</td>\n",
       "      <td>3개월 전</td>\n",
       "    </tr>\n",
       "    <tr>\n",
       "      <th>141</th>\n",
       "      <td>단기투자 vs 장기투자</td>\n",
       "      <td>https://youtube.com/shorts/5_AdtXEWgyU</td>\n",
       "      <td>없음</td>\n",
       "      <td>1일 전</td>\n",
       "    </tr>\n",
       "    <tr>\n",
       "      <th>142</th>\n",
       "      <td>장투하기 좋은 1000원대 주식 유망종목 4</td>\n",
       "      <td>https://youtube.com/watch?v=UnGjGK0o178&amp;pp=ygU...</td>\n",
       "      <td>15만회</td>\n",
       "      <td>9시간 전</td>\n",
       "    </tr>\n",
       "    <tr>\n",
       "      <th>143</th>\n",
       "      <td>6월 14일 수요일 무료추천종목 LIVE - 단타매매, 시황분석</td>\n",
       "      <td>https://youtube.com/watch?v=of8pVfzpaVk&amp;pp=ygU...</td>\n",
       "      <td>17만회</td>\n",
       "      <td>9일 전</td>\n",
       "    </tr>\n",
       "  </tbody>\n",
       "</table>\n",
       "<p>144 rows × 4 columns</p>\n",
       "</div>"
      ],
      "text/plain": [
       "                                                 title  \\\n",
       "0       지금부터 '이 주식' 꼭 사야 한다, 놓치면 반드시 후회합니다 (전업투자자 김정수)   \n",
       "1    2차전지 다음으로 3년간 큰돈 벌 기회가 왔어요 '이 주식' 사 모으세요 (장기 투...   \n",
       "2                        국내 ETF주식 세 종목만 모으셔도 부자가 됩니다 !   \n",
       "3                          국내 배당주식 세 종목만 모으셔도 부자가 됩니다!   \n",
       "4    2023년 배당주 추천 종목 완벽 정리! (투자 방법, 배당금 많은 주식 순위, 고...   \n",
       "..                                                 ...   \n",
       "139  주식초보 주린이를 위한 1 Tier 추천 도서 완벽 정리, 한권으로 주식투자 공부 ...   \n",
       "140      국내 배당주식 대신 유튜브 한 종목 추천으로 큰일날뻔..(feat.부자and거지)   \n",
       "141                                       단기투자 vs 장기투자   \n",
       "142                           장투하기 좋은 1000원대 주식 유망종목 4   \n",
       "143                6월 14일 수요일 무료추천종목 LIVE - 단타매매, 시황분석   \n",
       "\n",
       "                                                  link   view upload_date  \n",
       "0    https://youtube.com/watch?v=TmTSczyw6lg&pp=ygU...  7.7만회       1개월 전  \n",
       "1    https://youtube.com/watch?v=qhAABUhN_ms&pp=ygU...   14만회    조회수 53만회  \n",
       "2    https://youtube.com/watch?v=FCK-Wl2cjpo&pp=ygU...   33만회   조회수 326만회  \n",
       "3    https://youtube.com/watch?v=1AIl51rqe4w&pp=ygU...   39만회        1년 전  \n",
       "4    https://youtube.com/watch?v=Mq1XCWg3hvk&pp=ygU...  5.5천회       5개월 전  \n",
       "..                                                 ...    ...         ...  \n",
       "139  https://youtube.com/watch?v=-7PNSj9m1XA&pp=ygU...  4.2만회       5개월 전  \n",
       "140  https://youtube.com/watch?v=qugJE7bsksg&pp=ygU...   246회       3개월 전  \n",
       "141             https://youtube.com/shorts/5_AdtXEWgyU     없음        1일 전  \n",
       "142  https://youtube.com/watch?v=UnGjGK0o178&pp=ygU...   15만회       9시간 전  \n",
       "143  https://youtube.com/watch?v=of8pVfzpaVk&pp=ygU...   17만회        9일 전  \n",
       "\n",
       "[144 rows x 4 columns]"
      ]
     },
     "execution_count": 17,
     "metadata": {},
     "output_type": "execute_result"
    }
   ],
   "source": [
    "df"
   ]
  }
 ],
 "metadata": {
  "kernelspec": {
   "display_name": "base",
   "language": "python",
   "name": "python3"
  },
  "language_info": {
   "codemirror_mode": {
    "name": "ipython",
    "version": 3
   },
   "file_extension": ".py",
   "mimetype": "text/x-python",
   "name": "python",
   "nbconvert_exporter": "python",
   "pygments_lexer": "ipython3",
   "version": "3.9.16"
  }
 },
 "nbformat": 4,
 "nbformat_minor": 4
}
