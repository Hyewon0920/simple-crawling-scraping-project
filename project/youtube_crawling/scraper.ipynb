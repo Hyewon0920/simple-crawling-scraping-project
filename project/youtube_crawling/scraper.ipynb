{
 "cells": [
  {
   "cell_type": "markdown",
   "metadata": {},
   "source": [
    "# 유튜브 콘텐츠 크롤링\n",
    "- 참고 : [깃허브](https://github.com/park-gb/youtube-content-scaper)"
   ]
  },
  {
   "cell_type": "code",
   "execution_count": 1,
   "metadata": {},
   "outputs": [
    {
     "name": "stdout",
     "output_type": "stream",
     "text": [
      "Requirement already satisfied: bs4==0.0.1 in c:\\users\\hop09\\desktop\\anaconda\\lib\\site-packages (0.0.1)\n",
      "Requirement already satisfied: beautifulsoup4 in c:\\users\\hop09\\desktop\\anaconda\\lib\\site-packages (from bs4==0.0.1) (4.12.2)\n",
      "Requirement already satisfied: soupsieve>1.2 in c:\\users\\hop09\\desktop\\anaconda\\lib\\site-packages (from beautifulsoup4->bs4==0.0.1) (2.4)\n",
      "Collecting selenium==4.1.2\n",
      "  Using cached selenium-4.1.2-py3-none-any.whl (963 kB)\n",
      "Requirement already satisfied: urllib3[secure,socks]~=1.26 in c:\\users\\hop09\\desktop\\anaconda\\lib\\site-packages (from selenium==4.1.2) (1.26.16)\n",
      "Requirement already satisfied: trio~=0.17 in c:\\users\\hop09\\desktop\\anaconda\\lib\\site-packages (from selenium==4.1.2) (0.22.0)\n",
      "Requirement already satisfied: trio-websocket~=0.9 in c:\\users\\hop09\\desktop\\anaconda\\lib\\site-packages (from selenium==4.1.2) (0.10.2)\n",
      "Requirement already satisfied: attrs>=19.2.0 in c:\\users\\hop09\\desktop\\anaconda\\lib\\site-packages (from trio~=0.17->selenium==4.1.2) (22.1.0)\n",
      "Requirement already satisfied: sortedcontainers in c:\\users\\hop09\\desktop\\anaconda\\lib\\site-packages (from trio~=0.17->selenium==4.1.2) (2.4.0)\n",
      "Requirement already satisfied: async-generator>=1.9 in c:\\users\\hop09\\desktop\\anaconda\\lib\\site-packages (from trio~=0.17->selenium==4.1.2) (1.10)\n",
      "Requirement already satisfied: idna in c:\\users\\hop09\\desktop\\anaconda\\lib\\site-packages (from trio~=0.17->selenium==4.1.2) (3.4)\n",
      "Requirement already satisfied: outcome in c:\\users\\hop09\\desktop\\anaconda\\lib\\site-packages (from trio~=0.17->selenium==4.1.2) (1.2.0)\n",
      "Requirement already satisfied: sniffio in c:\\users\\hop09\\desktop\\anaconda\\lib\\site-packages (from trio~=0.17->selenium==4.1.2) (1.2.0)\n",
      "Requirement already satisfied: cffi>=1.14 in c:\\users\\hop09\\desktop\\anaconda\\lib\\site-packages (from trio~=0.17->selenium==4.1.2) (1.15.1)\n",
      "Requirement already satisfied: exceptiongroup>=1.0.0rc9 in c:\\users\\hop09\\desktop\\anaconda\\lib\\site-packages (from trio~=0.17->selenium==4.1.2) (1.0.4)\n",
      "Requirement already satisfied: wsproto>=0.14 in c:\\users\\hop09\\desktop\\anaconda\\lib\\site-packages (from trio-websocket~=0.9->selenium==4.1.2) (1.2.0)\n",
      "Requirement already satisfied: pyOpenSSL>=0.14 in c:\\users\\hop09\\desktop\\anaconda\\lib\\site-packages (from urllib3[secure,socks]~=1.26->selenium==4.1.2) (23.0.0)\n",
      "Requirement already satisfied: cryptography>=1.3.4 in c:\\users\\hop09\\desktop\\anaconda\\lib\\site-packages (from urllib3[secure,socks]~=1.26->selenium==4.1.2) (39.0.1)\n",
      "Requirement already satisfied: certifi in c:\\users\\hop09\\desktop\\anaconda\\lib\\site-packages (from urllib3[secure,socks]~=1.26->selenium==4.1.2) (2023.5.7)\n",
      "Requirement already satisfied: urllib3-secure-extra in c:\\users\\hop09\\desktop\\anaconda\\lib\\site-packages (from urllib3[secure,socks]~=1.26->selenium==4.1.2) (0.1.0)\n",
      "Requirement already satisfied: PySocks!=1.5.7,<2.0,>=1.5.6 in c:\\users\\hop09\\desktop\\anaconda\\lib\\site-packages (from urllib3[secure,socks]~=1.26->selenium==4.1.2) (1.7.1)\n",
      "Requirement already satisfied: pycparser in c:\\users\\hop09\\desktop\\anaconda\\lib\\site-packages (from cffi>=1.14->trio~=0.17->selenium==4.1.2) (2.21)\n",
      "Requirement already satisfied: h11<1,>=0.9.0 in c:\\users\\hop09\\desktop\\anaconda\\lib\\site-packages (from wsproto>=0.14->trio-websocket~=0.9->selenium==4.1.2) (0.14.0)\n",
      "Installing collected packages: selenium\n",
      "  Attempting uninstall: selenium\n",
      "    Found existing installation: selenium 4.12.0\n",
      "    Uninstalling selenium-4.12.0:\n",
      "      Successfully uninstalled selenium-4.12.0\n",
      "Successfully installed selenium-4.1.2\n",
      "Requirement already satisfied: webdriver-manager==3.5.3 in c:\\users\\hop09\\desktop\\anaconda\\lib\\site-packages (3.5.3)\n",
      "Requirement already satisfied: requests in c:\\users\\hop09\\desktop\\anaconda\\lib\\site-packages (from webdriver-manager==3.5.3) (2.29.0)\n",
      "Requirement already satisfied: configparser in c:\\users\\hop09\\desktop\\anaconda\\lib\\site-packages (from webdriver-manager==3.5.3) (6.0.0)\n",
      "Requirement already satisfied: crayons in c:\\users\\hop09\\desktop\\anaconda\\lib\\site-packages (from webdriver-manager==3.5.3) (0.4.0)\n",
      "Requirement already satisfied: colorama in c:\\users\\hop09\\desktop\\anaconda\\lib\\site-packages (from crayons->webdriver-manager==3.5.3) (0.4.6)\n",
      "Requirement already satisfied: charset-normalizer<4,>=2 in c:\\users\\hop09\\desktop\\anaconda\\lib\\site-packages (from requests->webdriver-manager==3.5.3) (2.0.4)\n",
      "Requirement already satisfied: idna<4,>=2.5 in c:\\users\\hop09\\desktop\\anaconda\\lib\\site-packages (from requests->webdriver-manager==3.5.3) (3.4)\n",
      "Requirement already satisfied: urllib3<1.27,>=1.21.1 in c:\\users\\hop09\\desktop\\anaconda\\lib\\site-packages (from requests->webdriver-manager==3.5.3) (1.26.16)\n",
      "Requirement already satisfied: certifi>=2017.4.17 in c:\\users\\hop09\\desktop\\anaconda\\lib\\site-packages (from requests->webdriver-manager==3.5.3) (2023.5.7)\n",
      "Requirement already satisfied: pandas==1.4.1 in c:\\users\\hop09\\desktop\\anaconda\\lib\\site-packages (1.4.1)\n",
      "Requirement already satisfied: python-dateutil>=2.8.1 in c:\\users\\hop09\\desktop\\anaconda\\lib\\site-packages (from pandas==1.4.1) (2.8.2)\n",
      "Requirement already satisfied: pytz>=2020.1 in c:\\users\\hop09\\desktop\\anaconda\\lib\\site-packages (from pandas==1.4.1) (2022.7)\n",
      "Requirement already satisfied: numpy>=1.18.5 in c:\\users\\hop09\\desktop\\anaconda\\lib\\site-packages (from pandas==1.4.1) (1.22.2)\n",
      "Requirement already satisfied: six>=1.5 in c:\\users\\hop09\\desktop\\anaconda\\lib\\site-packages (from python-dateutil>=2.8.1->pandas==1.4.1) (1.16.0)\n",
      "Requirement already satisfied: numpy==1.22.2 in c:\\users\\hop09\\desktop\\anaconda\\lib\\site-packages (1.22.2)\n"
     ]
    }
   ],
   "source": [
    "# 필요 모듈 다운로드\n",
    "! pip install bs4==0.0.1\n",
    "! pip install selenium==4.1.2\n",
    "! pip install webdriver-manager==3.5.3\n",
    "! pip install pandas==1.4.1\n",
    "! pip install numpy==1.22.2"
   ]
  },
  {
   "cell_type": "markdown",
   "metadata": {},
   "source": [
    "# 패키지 Import"
   ]
  },
  {
   "cell_type": "code",
   "execution_count": 2,
   "metadata": {},
   "outputs": [],
   "source": [
    "from selenium import webdriver\n",
    "from selenium.webdriver.support.ui import WebDriverWait\n",
    "from selenium.webdriver.support import expected_conditions as EC\n",
    "from selenium.webdriver.common.by import By\n",
    "from selenium.webdriver.common.keys import Keys\n",
    "from webdriver_manager.chrome import ChromeDriverManager\n",
    "from bs4 import BeautifulSoup"
   ]
  },
  {
   "cell_type": "code",
   "execution_count": 3,
   "metadata": {},
   "outputs": [
    {
     "name": "stdout",
     "output_type": "stream",
     "text": [
      "Requirement already satisfied: selenium in c:\\users\\hop09\\desktop\\anaconda\\lib\\site-packages (4.1.2)\n",
      "Collecting selenium\n",
      "  Using cached selenium-4.12.0-py3-none-any.whl (9.4 MB)\n",
      "Requirement already satisfied: urllib3[socks]<3,>=1.26 in c:\\users\\hop09\\desktop\\anaconda\\lib\\site-packages (from selenium) (1.26.16)\n",
      "Requirement already satisfied: trio~=0.17 in c:\\users\\hop09\\desktop\\anaconda\\lib\\site-packages (from selenium) (0.22.0)\n",
      "Requirement already satisfied: trio-websocket~=0.9 in c:\\users\\hop09\\desktop\\anaconda\\lib\\site-packages (from selenium) (0.10.2)\n",
      "Requirement already satisfied: certifi>=2021.10.8 in c:\\users\\hop09\\desktop\\anaconda\\lib\\site-packages (from selenium) (2023.5.7)\n",
      "Requirement already satisfied: attrs>=19.2.0 in c:\\users\\hop09\\desktop\\anaconda\\lib\\site-packages (from trio~=0.17->selenium) (22.1.0)\n",
      "Requirement already satisfied: sortedcontainers in c:\\users\\hop09\\desktop\\anaconda\\lib\\site-packages (from trio~=0.17->selenium) (2.4.0)\n",
      "Requirement already satisfied: async-generator>=1.9 in c:\\users\\hop09\\desktop\\anaconda\\lib\\site-packages (from trio~=0.17->selenium) (1.10)\n",
      "Requirement already satisfied: idna in c:\\users\\hop09\\desktop\\anaconda\\lib\\site-packages (from trio~=0.17->selenium) (3.4)\n",
      "Requirement already satisfied: outcome in c:\\users\\hop09\\desktop\\anaconda\\lib\\site-packages (from trio~=0.17->selenium) (1.2.0)\n",
      "Requirement already satisfied: sniffio in c:\\users\\hop09\\desktop\\anaconda\\lib\\site-packages (from trio~=0.17->selenium) (1.2.0)\n",
      "Requirement already satisfied: cffi>=1.14 in c:\\users\\hop09\\desktop\\anaconda\\lib\\site-packages (from trio~=0.17->selenium) (1.15.1)\n",
      "Requirement already satisfied: exceptiongroup>=1.0.0rc9 in c:\\users\\hop09\\desktop\\anaconda\\lib\\site-packages (from trio~=0.17->selenium) (1.0.4)\n",
      "Requirement already satisfied: wsproto>=0.14 in c:\\users\\hop09\\desktop\\anaconda\\lib\\site-packages (from trio-websocket~=0.9->selenium) (1.2.0)\n",
      "Requirement already satisfied: PySocks!=1.5.7,<2.0,>=1.5.6 in c:\\users\\hop09\\desktop\\anaconda\\lib\\site-packages (from urllib3[socks]<3,>=1.26->selenium) (1.7.1)\n",
      "Requirement already satisfied: pycparser in c:\\users\\hop09\\desktop\\anaconda\\lib\\site-packages (from cffi>=1.14->trio~=0.17->selenium) (2.21)\n",
      "Requirement already satisfied: h11<1,>=0.9.0 in c:\\users\\hop09\\desktop\\anaconda\\lib\\site-packages (from wsproto>=0.14->trio-websocket~=0.9->selenium) (0.14.0)\n",
      "Installing collected packages: selenium\n",
      "  Attempting uninstall: selenium\n",
      "    Found existing installation: selenium 4.1.2\n",
      "    Uninstalling selenium-4.1.2:\n",
      "      Successfully uninstalled selenium-4.1.2\n",
      "Successfully installed selenium-4.12.0\n"
     ]
    }
   ],
   "source": [
    "# 최신버전 업데이트 매번 크롬드라이버 다운 불필요\n",
    "! pip install selenium -U \n"
   ]
  },
  {
   "cell_type": "code",
   "execution_count": 4,
   "metadata": {},
   "outputs": [],
   "source": [
    "import time\n",
    "import random\n",
    "import pandas as pd"
   ]
  },
  {
   "cell_type": "markdown",
   "metadata": {
    "tags": []
   },
   "source": [
    "# 무한 스크롤 함수\n",
    "## 1) 기능\n",
    "- 콘텐츠 로딩을 충분히 기다리며 스크롤이 불가할 때까지 스크롤을 무한 반복하는 함수\n",
    "\n",
    "## 2) 역할\n",
    "- 유튜브 웹 페이지는 스크롤을 해야 새로운 콘텐츠 정보를 제공하기 때문에, 모든 검색 결과를 확인하기 위해서는 무한 스크롤 기능 필요"
   ]
  },
  {
   "cell_type": "code",
   "execution_count": 5,
   "metadata": {},
   "outputs": [],
   "source": [
    "def scroll():\n",
    "    try:        \n",
    "        # 페이지 내 스크롤 높이 받아오기\n",
    "        last_page_height = driver.execute_script(\"return document.documentElement.scrollHeight\")\n",
    "        while True:\n",
    "            # 임의의 페이지 로딩 시간 설정\n",
    "            # PC환경에 따라 로딩시간 최적화를 통해 scraping 시간 단축 가능\n",
    "            pause_time = random.uniform(1, 2)\n",
    "            # 페이지 최하단까지 스크롤\n",
    "            driver.execute_script(\"window.scrollTo(0, document.documentElement.scrollHeight);\")\n",
    "            # 페이지 로딩 대기\n",
    "            time.sleep(pause_time)\n",
    "            # 무한 스크롤 동작을 위해 살짝 위로 스크롤(i.e., 페이지를 위로 올렸다가 내리는 제스쳐)\n",
    "            driver.execute_script(\"window.scrollTo(0, document.documentElement.scrollHeight-50)\")\n",
    "            time.sleep(pause_time)\n",
    "            # 페이지 내 스크롤 높이 새롭게 받아오기\n",
    "            new_page_height = driver.execute_script(\"return document.documentElement.scrollHeight\")\n",
    "            # 스크롤을 완료한 경우(더이상 페이지 높이 변화가 없는 경우)\n",
    "            if new_page_height == last_page_height:\n",
    "                print(\"스크롤 완료\")\n",
    "                break\n",
    "                \n",
    "            # 스크롤 완료하지 않은 경우, 최하단까지 스크롤\n",
    "            else:\n",
    "                last_page_height = new_page_height\n",
    "            \n",
    "    except Exception as e:\n",
    "        print(\"에러 발생: \", e)"
   ]
  },
  {
   "cell_type": "markdown",
   "metadata": {
    "tags": []
   },
   "source": [
    "# 데이터 Scrap"
   ]
  },
  {
   "cell_type": "code",
   "execution_count": 6,
   "metadata": {},
   "outputs": [],
   "source": [
    "# 검색 키워드 설정: 키워드 내 띄어쓰기는 URL에서 '+'로 표시되기 때문에 이에 맞게 변환\n",
    "SEARCH_KEYWORD = '투자종목 추천'.replace(' ', '+')"
   ]
  },
  {
   "cell_type": "code",
   "execution_count": 26,
   "metadata": {},
   "outputs": [
    {
     "name": "stdout",
     "output_type": "stream",
     "text": [
      "스크롤 완료\n"
     ]
    }
   ],
   "source": [
    "driver = webdriver.Chrome()\n",
    "# 스크래핑 할 URL 세팅\n",
    "URL = \"https://www.youtube.com/results?search_query=\" + SEARCH_KEYWORD\n",
    "# 크롬 드라이버를 통해 지정한 URL의 웹 페이지 오픈\n",
    "driver.get(URL)\n",
    "# 웹 페이지 로딩 대기\n",
    "time.sleep(3)\n",
    "\n",
    "# 필터적용\n",
    "filter_selector = \"#filter-button > ytd-button-renderer > yt-button-shape > button > yt-touch-feedback-shape > div > div.yt-spec-touch-feedback-shape__fill\"\n",
    "filter_button = driver.find_element(By.CSS_SELECTOR,filter_selector).click()\n",
    "time.sleep(2)\n",
    "\n",
    "# 날짜 클릭 -> 필터는 이부분 수정\n",
    "option_selector = \"#label > yt-formatted-string\"\n",
    "#label > yt-formatted-string\n",
    "video_options = driver.find_elements(By.CSS_SELECTOR,option_selector)\n",
    "videotype_real_option = None\n",
    "for video_option in video_options:\n",
    "    if video_option.text ==\"오늘\":\n",
    "        videotype_real_option = video_option\n",
    "        break\n",
    "videotype_real_option.click()\n",
    "time.sleep(2)\n",
    "\n",
    "\n",
    "#무한 스크롤 함수 실행\n",
    "scroll()"
   ]
  },
  {
   "cell_type": "code",
   "execution_count": null,
   "metadata": {},
   "outputs": [],
   "source": []
  },
  {
   "cell_type": "code",
   "execution_count": 27,
   "metadata": {},
   "outputs": [],
   "source": [
    "# 페이지 소스 추출\n",
    "html_source = driver.page_source\n",
    "soup_source = BeautifulSoup(html_source, 'html.parser')"
   ]
  },
  {
   "cell_type": "markdown",
   "metadata": {},
   "source": [
    "# 데이터 추출"
   ]
  },
  {
   "cell_type": "code",
   "execution_count": 30,
   "metadata": {},
   "outputs": [],
   "source": [
    "content_record_src = soup_source.find_all(class_ = 'inline-metadata-item style-scope ytd-video-meta-block')\n",
    "content_view_cnt = [content_record_src[i].get_text().replace('조회수 ', '') for i in range(0, len(content_record_src), 2)]\n",
    "content_upload_date = [content_record_src[i].get_text() for i in range(1, len(content_record_src), 2)]\n"
   ]
  },
  {
   "cell_type": "code",
   "execution_count": 31,
   "metadata": {},
   "outputs": [
    {
     "name": "stdout",
     "output_type": "stream",
     "text": [
      "['763회', '2.2만회', '408회', '1.1만회', '1.5천회', '1.6천회', '1.1천회', '1.4천회', '4.8천회', '866회', '1.3천회', '3.2천회', '332회', '114회', '2.9천회', '140회', '3.4천회', '1천회', '48회', '3.5천회', '428회', '1.3천회', '216회', '867회', '275회', '3.4천회', '684회', '855회', '893회', '1.1천회', '54회', '1.8천회', '1.3천회', '4.2천회', '106회', '988회', '5.6천회', '755회', '2.9천회', '27회', '201회', '38회', '2.6천회', '1.9천회', '662회', '151회', '3천회', '762회', '225회', '265회', '419회', '1.6천회', '2.2천회', '637회', '469회', '469회', '763회', '1천회', '523회', '227회', '1.3천회', '321회', '493회', '1.1천회', '3.6천회', '5.5천회', '392회', '170회', '426회', '1.9천회', '없음', '1.3천회', '653회', '235회', '614회', '645회', '663회', '89회', '171회', '794회', '없음', '60회', '131회', '282회', '2.2만회', '24회', '115회', '536회', '416회', '944회', '235회', '71회', '634회', '52회', '565회', '80회', '229회', '366회', '282회', '24회', '115회', '536회', '24회', '341회', '416회', '156회', '1만회', '335회', '4.8천회', '19회', '없음', '472회', '없음', '79회', '128회', '111회', '140회', '148회', '82회', '1.1천회', '23회', '126회', '59회', '191회', '25회', '37회', '89회', '312회', '498회', '194회', '384회', '없음', '없음', '308회', '2.5천회', '130회', '없음', '1.2천회', '없음', '956회', '639회', '없음', '없음', '없음', '5회', '2회', '없음', '없음', '92회', '없음', '11회', '394회', '없음', '285회', '3회', '없음', '없음', '없음', '없음', '없음', '없음', '없음', '5회', '2회', '없음', '없음', '없음', '없음', '없음', '없음', '없음', '없음', '16회', '5회', '56회', '없음', '없음', '1회', '없음', '없음', '없음', '없음', '없음', '없음', '없음', '없음', '395회', '4회', '없음', '3.9천회', '7회', '5회', '8회', '5회', '없음', '없음', '없음', '27회', '4회', '없음', '없음', '4회', '58회', '6회', '없음', '없음', '2회', '1회', '없음', '10회', '없음', '없음', '없음', '없음', '없음', '없음', '없음', '1회', '없음', '없음', '없음', '없음', '없음', '35회', '9회', '67회', '없음', '없음', '395회', '없음', '없음', '없음', '4회', '30회', '없음', '7회', '없음', '935회', '7.8천회', '2천회', '18회', '111회', '없음', '750회', '없음', '9회', '없음', '없음', '없음', '없음', '없음', '없음', '없음', '없음', '없음', '32회', '2회', '없음', '27회', '4회', '3회', '1회', '4회', '없음', '없음', '3회', '58회', '3회', '6회', '655회', '5회', '없음', '1회', '10회', '없음', '없음', '2회', '없음', '없음', '없음', '없음', '없음', '없음', '없음', '없음', '없음', '22회', '없음', '354회', '없음', '3회', '38회', '92회', '없음', '없음', '없음']\n"
     ]
    }
   ],
   "source": [
    "print(content_view_cnt)"
   ]
  },
  {
   "cell_type": "code",
   "execution_count": 11,
   "metadata": {},
   "outputs": [
    {
     "name": "stdout",
     "output_type": "stream",
     "text": [
      "0\n",
      "2\n",
      "4\n",
      "6\n",
      "8\n"
     ]
    }
   ],
   "source": [
    "for i in range(0,10,2) :\n",
    "  print(i) "
   ]
  },
  {
   "cell_type": "code",
   "execution_count": 32,
   "metadata": {
    "scrolled": true
   },
   "outputs": [],
   "source": [
    "# 콘텐츠 모든 정보\n",
    "content_total = soup_source.find_all(class_ = 'yt-simple-endpoint style-scope ytd-video-renderer')\n",
    "# 콘텐츠 제목만 추출\n",
    "content_total_title = list(map(lambda data: data.get_text().replace(\"\\n\", \"\"), content_total))\n",
    "# 콘텐츠 링크만 추출\n",
    "content_total_link = list(map(lambda data: \"https://youtube.com\" + data[\"href\"], content_total))\n",
    "\n",
    "#--------조회수 & 업로드 날짜 추출(Updated at 2022-10-11)--------#\n",
    "content_record_src = soup_source.find_all(class_ = 'inline-metadata-item style-scope ytd-video-meta-block')\n",
    "content_view_cnt = [content_record_src[i].get_text().replace('조회수 ', '') for i in range(0, len(content_record_src), 2)]\n",
    "content_upload_date = [content_record_src[i].get_text() for i in range(1, len(content_record_src), 2)]\n",
    "#---------------------------------------------------------#"
   ]
  },
  {
   "cell_type": "markdown",
   "metadata": {},
   "source": [
    "# 데이터프레임 저장"
   ]
  },
  {
   "cell_type": "code",
   "execution_count": 33,
   "metadata": {},
   "outputs": [
    {
     "name": "stdout",
     "output_type": "stream",
     "text": [
      "c:\\Users\\hop09\\Desktop\\SEMINA\\Mirrea_youtube\n"
     ]
    }
   ],
   "source": [
    "import os\n",
    "path = os.getcwd()\n",
    "print(path)"
   ]
  },
  {
   "cell_type": "code",
   "execution_count": 37,
   "metadata": {},
   "outputs": [],
   "source": [
    "# 모든 리스트가 같은 길이를 가지도록 확인\n",
    "min_length = min(len(content_total_title), len(content_total_link), len(content_view_cnt), len(content_upload_date))\n",
    "content_total_dict = {\n",
    "    'title': content_total_title[:min_length],\n",
    "    'link': content_total_link[:min_length],\n",
    "    'view': content_view_cnt[:min_length],\n",
    "    'upload_date': content_upload_date[:min_length]\n",
    "}\n",
    "\n",
    "df = pd.DataFrame(content_total_dict)\n",
    "df.to_csv(path+\"\\content_total.csv\", encoding='utf-8-sig')"
   ]
  },
  {
   "cell_type": "markdown",
   "metadata": {},
   "source": [
    "# 데이터 확인"
   ]
  },
  {
   "cell_type": "code",
   "execution_count": 38,
   "metadata": {},
   "outputs": [
    {
     "data": {
      "text/html": [
       "<div>\n",
       "<style scoped>\n",
       "    .dataframe tbody tr th:only-of-type {\n",
       "        vertical-align: middle;\n",
       "    }\n",
       "\n",
       "    .dataframe tbody tr th {\n",
       "        vertical-align: top;\n",
       "    }\n",
       "\n",
       "    .dataframe thead th {\n",
       "        text-align: right;\n",
       "    }\n",
       "</style>\n",
       "<table border=\"1\" class=\"dataframe\">\n",
       "  <thead>\n",
       "    <tr style=\"text-align: right;\">\n",
       "      <th></th>\n",
       "      <th>title</th>\n",
       "      <th>link</th>\n",
       "      <th>view</th>\n",
       "      <th>upload_date</th>\n",
       "    </tr>\n",
       "  </thead>\n",
       "  <tbody>\n",
       "    <tr>\n",
       "      <th>0</th>\n",
       "      <td>[STX 주가전망] 조정 구간 21,000원에서 추가 매수를 하면 안 되는 이유 #...</td>\n",
       "      <td>https://youtube.com/watch?v=U8B5HmKbVEw&amp;pp=ygU...</td>\n",
       "      <td>763회</td>\n",
       "      <td>3시간 전</td>\n",
       "    </tr>\n",
       "    <tr>\n",
       "      <th>1</th>\n",
       "      <td>153년의 지혜, 추세추종의 시조, 딕슨 와츠의 투자(투기) 절대법칙 4가지ㅣ예술로...</td>\n",
       "      <td>https://youtube.com/watch?v=DiOdp91nXRI&amp;pp=ygU...</td>\n",
       "      <td>2.2만회</td>\n",
       "      <td>23시간 전</td>\n",
       "    </tr>\n",
       "    <tr>\n",
       "      <th>2</th>\n",
       "      <td>9월25일 급등주 이랜시스 에스피지 모비스 비츠로테크 셀바스헬스케어 레인보우로보틱스...</td>\n",
       "      <td>https://youtube.com/watch?v=pCra_L_T55s&amp;pp=ygU...</td>\n",
       "      <td>408회</td>\n",
       "      <td>18시간 전</td>\n",
       "    </tr>\n",
       "    <tr>\n",
       "      <th>3</th>\n",
       "      <td>9월 25일 월요일 무료추천종목 LIVE - 단타매매, 시황분석</td>\n",
       "      <td>https://youtube.com/watch?v=A5uXFfhuCyY&amp;pp=ygU...</td>\n",
       "      <td>1.1만회</td>\n",
       "      <td>스트리밍 시간: 7시간 전</td>\n",
       "    </tr>\n",
       "    <tr>\n",
       "      <th>4</th>\n",
       "      <td>3개월만 기다리세요, 다시 회복할 겁니다. #주식 #주식투자 #주식초보 #주식공부</td>\n",
       "      <td>https://youtube.com/shorts/B_K72XaZcRI</td>\n",
       "      <td>1.5천회</td>\n",
       "      <td>47분 전</td>\n",
       "    </tr>\n",
       "    <tr>\n",
       "      <th>...</th>\n",
       "      <td>...</td>\n",
       "      <td>...</td>\n",
       "      <td>...</td>\n",
       "      <td>...</td>\n",
       "    </tr>\n",
       "    <tr>\n",
       "      <th>291</th>\n",
       "      <td>제2의 포스코홀딩스 1종목 하반기 이 종목 80배 간다 에코 금양 박순혁추천주 김작...</td>\n",
       "      <td>https://youtube.com/watch?v=oVrQmiSQJLQ&amp;pp=ygU...</td>\n",
       "      <td>38회</td>\n",
       "      <td>20시간 전</td>\n",
       "    </tr>\n",
       "    <tr>\n",
       "      <th>292</th>\n",
       "      <td>에스티피 코인 (STPT) 수익과 손실은 동전의 양면처럼 붙어있다</td>\n",
       "      <td>https://youtube.com/watch?v=rvGOWGyYn5Y&amp;pp=ygU...</td>\n",
       "      <td>92회</td>\n",
       "      <td>20시간 전</td>\n",
       "    </tr>\n",
       "    <tr>\n",
       "      <th>293</th>\n",
       "      <td>[옵티코어 주가전망] 10월 바닥부터 올라갈 주식은 단연코 '이주식'입니다. 사 놓...</td>\n",
       "      <td>https://youtube.com/watch?v=ifa_nX4Grw0&amp;pp=ygU...</td>\n",
       "      <td>없음</td>\n",
       "      <td>20시간 전</td>\n",
       "    </tr>\n",
       "    <tr>\n",
       "      <th>294</th>\n",
       "      <td>[속보]#피엔티 💎9월25일 월요일 10분전 긴급속보!! 지금 '이 내용' 놓치면 ...</td>\n",
       "      <td>https://youtube.com/watch?v=hGx0kMEaKiA&amp;pp=ygU...</td>\n",
       "      <td>없음</td>\n",
       "      <td>1일 전</td>\n",
       "    </tr>\n",
       "    <tr>\n",
       "      <th>295</th>\n",
       "      <td>[주식] 지금 미친척 당장 사야할 주식이 생겼다!! 삼성이 인수할 AI 세계1위 기...</td>\n",
       "      <td>https://youtube.com/watch?v=UWVa2tmpRy0&amp;pp=ygU...</td>\n",
       "      <td>없음</td>\n",
       "      <td>1일 전</td>\n",
       "    </tr>\n",
       "  </tbody>\n",
       "</table>\n",
       "<p>296 rows × 4 columns</p>\n",
       "</div>"
      ],
      "text/plain": [
       "                                                 title  \\\n",
       "0    [STX 주가전망] 조정 구간 21,000원에서 추가 매수를 하면 안 되는 이유 #...   \n",
       "1    153년의 지혜, 추세추종의 시조, 딕슨 와츠의 투자(투기) 절대법칙 4가지ㅣ예술로...   \n",
       "2    9월25일 급등주 이랜시스 에스피지 모비스 비츠로테크 셀바스헬스케어 레인보우로보틱스...   \n",
       "3                  9월 25일 월요일 무료추천종목 LIVE - 단타매매, 시황분석   \n",
       "4        3개월만 기다리세요, 다시 회복할 겁니다. #주식 #주식투자 #주식초보 #주식공부   \n",
       "..                                                 ...   \n",
       "291  제2의 포스코홀딩스 1종목 하반기 이 종목 80배 간다 에코 금양 박순혁추천주 김작...   \n",
       "292               에스티피 코인 (STPT) 수익과 손실은 동전의 양면처럼 붙어있다   \n",
       "293  [옵티코어 주가전망] 10월 바닥부터 올라갈 주식은 단연코 '이주식'입니다. 사 놓...   \n",
       "294  [속보]#피엔티 💎9월25일 월요일 10분전 긴급속보!! 지금 '이 내용' 놓치면 ...   \n",
       "295  [주식] 지금 미친척 당장 사야할 주식이 생겼다!! 삼성이 인수할 AI 세계1위 기...   \n",
       "\n",
       "                                                  link   view     upload_date  \n",
       "0    https://youtube.com/watch?v=U8B5HmKbVEw&pp=ygU...   763회           3시간 전  \n",
       "1    https://youtube.com/watch?v=DiOdp91nXRI&pp=ygU...  2.2만회          23시간 전  \n",
       "2    https://youtube.com/watch?v=pCra_L_T55s&pp=ygU...   408회          18시간 전  \n",
       "3    https://youtube.com/watch?v=A5uXFfhuCyY&pp=ygU...  1.1만회  스트리밍 시간: 7시간 전  \n",
       "4               https://youtube.com/shorts/B_K72XaZcRI  1.5천회           47분 전  \n",
       "..                                                 ...    ...             ...  \n",
       "291  https://youtube.com/watch?v=oVrQmiSQJLQ&pp=ygU...    38회          20시간 전  \n",
       "292  https://youtube.com/watch?v=rvGOWGyYn5Y&pp=ygU...    92회          20시간 전  \n",
       "293  https://youtube.com/watch?v=ifa_nX4Grw0&pp=ygU...     없음          20시간 전  \n",
       "294  https://youtube.com/watch?v=hGx0kMEaKiA&pp=ygU...     없음            1일 전  \n",
       "295  https://youtube.com/watch?v=UWVa2tmpRy0&pp=ygU...     없음            1일 전  \n",
       "\n",
       "[296 rows x 4 columns]"
      ]
     },
     "execution_count": 38,
     "metadata": {},
     "output_type": "execute_result"
    }
   ],
   "source": [
    "df"
   ]
  },
  {
   "cell_type": "code",
   "execution_count": null,
   "metadata": {},
   "outputs": [],
   "source": []
  }
 ],
 "metadata": {
  "kernelspec": {
   "display_name": "base",
   "language": "python",
   "name": "python3"
  },
  "language_info": {
   "codemirror_mode": {
    "name": "ipython",
    "version": 3
   },
   "file_extension": ".py",
   "mimetype": "text/x-python",
   "name": "python",
   "nbconvert_exporter": "python",
   "pygments_lexer": "ipython3",
   "version": "3.9.16"
  }
 },
 "nbformat": 4,
 "nbformat_minor": 4
}
