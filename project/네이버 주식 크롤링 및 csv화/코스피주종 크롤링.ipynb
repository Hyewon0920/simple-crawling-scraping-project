문제 1
def get_find(x,y):
    word_list = []
    
    if y not in x:
        return -1
    
    else:
        for pos,char in enumerate(x):
            if(char == y):
                word_list.append(pos)
    print(word_list)
    

x = 'oymywhy'
y = 'y'
get_find(x,y)

문제2 

문제 3
def make_change(price, payedPrice):
  count1 = 0;
  count2 = 0;
  count5 = 0;
  count10 = 0;
  count20 = 0;
  billList = [1,2,5,10,20]
 
  calculatedPrice = payedPrice-price
  while(calculatedPrice>0):
    if(calculatedPrice>=20):
      count20+=1
      calculatedPrice=calculatedPrice-20
    elif(calculatedPrice>=10):
      count10+=1
      calculatedPrice=calculatedPrice-10
    elif(calculatedPrice>=5):
      count5+=1
      calculatedPrice=calculatedPrice-5
    elif(calculatedPrice>=2):
      count2+=1
      calculatedPrice=calculatedPrice-2
    elif(calculatedPrice>=1):
      count1+=1
      calculatedPrice=calculatedPrice-1

  print("Change is:")

  if(count20>1):
    print(count20,"20-dollar-bills")
  elif(count20==1):
    print(count20,"20-dollar-bill")

  if(count10>1):
    print(count10,"10-dollar-bills")
  elif(count10==1):
    print(count10,"10-dollar-bill")

  if(count5>1):
    print(count5,"5-dollar-bills")
  elif(count5==1):
    print(count5,"5-dollar-bill")

  if(count2>1):
    print(count2,"2-dollar-bills")
  elif(count2==1):
    print(count2,"2-dollar-bill")
 
  if(count1>1):
    print(count1,"1-dollar-bills")
  elif(count1==1):
    print(count1,"1-dollar-bill")

make_change(4,109) 

